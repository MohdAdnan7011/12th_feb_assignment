{
 "cells": [
  {
   "cell_type": "code",
   "execution_count": 3,
   "id": "30ec802f",
   "metadata": {},
   "outputs": [
    {
     "data": {
      "text/plain": [
       "'\\nException:\\nOccurs during the execution of a program.\\n\\nSyntax Error:\\nOccurs when the Python parser encounters incorrect syntax\\n'"
      ]
     },
     "execution_count": 3,
     "metadata": {},
     "output_type": "execute_result"
    }
   ],
   "source": [
    "# Question No 1\n",
    "# An exception is an error that occurs during the execution of a program.\n",
    "# It disrupts the normal flow of the program's instructions\n",
    "\"\"\"\n",
    "Exception:\n",
    "Occurs during the execution of a program.\n",
    "\n",
    "Syntax Error:\n",
    "Occurs when the Python parser encounters incorrect syntax\n",
    "\"\"\""
   ]
  },
  {
   "cell_type": "code",
   "execution_count": 5,
   "id": "a4b0478f",
   "metadata": {},
   "outputs": [],
   "source": [
    "# Question No 2\n",
    "    \n",
    "# When an exception is not handled, it causes the program to terminate and an error message (traceback) is displayed\n",
    "# a = 10 \n",
    "# a/0\n",
    "    \n"
   ]
  },
  {
   "cell_type": "code",
   "execution_count": 6,
   "id": "f73f34fb",
   "metadata": {},
   "outputs": [],
   "source": [
    "# Question no 3\n",
    "# The try-except statement is used to catch and handle exceptions in Python.\n",
    "# try:\n",
    "#     f = open(\"test.txt9\", \"r\")\n",
    "# except Exception as e:\n",
    "#     print(\"This is my except block\", e)"
   ]
  },
  {
   "cell_type": "code",
   "execution_count": 7,
   "id": "f735c2e9",
   "metadata": {},
   "outputs": [],
   "source": [
    "# Question no 3\n",
    "# The try block lets you test a block of code for errors.\n",
    "# The finally block lets you execute code, regardless of whether an exception was raised or not.\n",
    "# The raise keyword is used to manually raise an exception.\n",
    "# try:\n",
    "#     f = open(\"test.txt10\", \"r\")\n",
    "# finally:\n",
    "#     print(\"this will always gets executed\")"
   ]
  },
  {
   "cell_type": "code",
   "execution_count": 8,
   "id": "a45a0ed5",
   "metadata": {},
   "outputs": [],
   "source": [
    "# Question no 4\n",
    "# Custom exceptions are user-defined exceptions that help to handle specific situations in your code more effectively.\n",
    "# They allow you to create meaningful error messages and handle errors \n",
    "# in a way that makes your code more readable and maintainable\n",
    "\n",
    "# why: 1 clarity 2 control 3 Debugging"
   ]
  },
  {
   "cell_type": "code",
   "execution_count": null,
   "id": "c6d68876",
   "metadata": {},
   "outputs": [],
   "source": [
    "# Question no 5\n",
    "# class validateage(Exception):\n",
    "#     def __init__(self, msg):\n",
    "#         self.msg = msg\n",
    "# def validateage(age):\n",
    "#     if age<0:\n",
    "#         raise validateage(\"Entered age is negative\")\n",
    "#     elif age >200:\n",
    "#         raise validateage(\"Entered age is very high\")\n",
    "#     else:\n",
    "#         print(\"valid age\")\n",
    "# try:\n",
    "#     age = int(input(\"Enter your age\"))\n",
    "#     validateage(age)\n",
    "# except validateage as e:\n",
    "#     print(e)\n",
    "#         "
   ]
  }
 ],
 "metadata": {
  "kernelspec": {
   "display_name": "Python 3 (ipykernel)",
   "language": "python",
   "name": "python3"
  },
  "language_info": {
   "codemirror_mode": {
    "name": "ipython",
    "version": 3
   },
   "file_extension": ".py",
   "mimetype": "text/x-python",
   "name": "python",
   "nbconvert_exporter": "python",
   "pygments_lexer": "ipython3",
   "version": "3.11.5"
  }
 },
 "nbformat": 4,
 "nbformat_minor": 5
}
